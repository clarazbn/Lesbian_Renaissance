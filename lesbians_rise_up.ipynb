{
 "cells": [
  {
   "cell_type": "code",
   "execution_count": 90,
   "metadata": {},
   "outputs": [],
   "source": [
    "import requests\n",
    "import pandas as pd\n",
    "from bs4 import BeautifulSoup"
   ]
  },
  {
   "cell_type": "code",
   "execution_count": 91,
   "metadata": {},
   "outputs": [],
   "source": [
    "lgbt_html = requests.get(\"https://sapphicnation.com/films/lesflicks-web-series-database-a-z/?_ga=2.147681143.1122788871.1720263497-278540631.1720263497&_gl=1*96gyq1*_ga*Mjc4NTQwNjMxLjE3MjAyNjM0OTc.*_ga_C27749276V*MTcyMDI2ODc3OS4yLjAuMTcyMDI2ODc3OS42MC4wLjA.\").text"
   ]
  },
  {
   "cell_type": "code",
   "execution_count": 92,
   "metadata": {},
   "outputs": [
    {
     "data": {
      "text/plain": [
       "bs4.BeautifulSoup"
      ]
     },
     "execution_count": 92,
     "metadata": {},
     "output_type": "execute_result"
    }
   ],
   "source": [
    "soup = BeautifulSoup(lgbt_html)\n",
    "type(soup)"
   ]
  },
  {
   "cell_type": "code",
   "execution_count": 93,
   "metadata": {},
   "outputs": [
    {
     "name": "stdout",
     "output_type": "stream",
     "text": [
      "['Home', '|', 'Read', 'All Articles', 'Film & TV', 'Film Festivals', 'Film Lists', 'Film Reviews', 'Lesflicks News', 'Lesflicks Interviews', 'Sapphic Arts & Theatre', 'Sapphic Music', 'Sapphic Health & Wellbeing', 'Sapphic Literature', 'Sapphic Dating & Relationships', 'Sapphic Events', 'Sapphic Sports', 'Sapphic Food & Drink', 'Sapphic Interviews', 'Crowdfunding Articles', 'Open Crowdfunders', 'Closed Crowdfunders', '|', 'Sapphic People Database', 'Sapphic Author', 'Sapphic DJ', 'Sapphic Musician', 'Sapphic Performer', 'Sapphic Promoter', '|', 'Sapphic Movie Database', 'FIND: Sapphic Stories Movie Database A-Z', 'FIND: Sapphic Stories Database Short Films A-Z', 'FIND: Sapphic Stories Database Series A-Z', 'FIND: Sapphic Stories Database – Films on LesflicksVOD', '|', 'Sapphic Business Database', '|', 'Newsletter', '|', 'Merch', 'Contact', '', '', '', '', '', '', 'A', 'B', 'C', 'D', 'E', 'F', 'G', 'H', 'K', 'L', 'M', 'O', 'P', 'Q', 'R', 'S', 'T', 'V', 'W', 'Y', '#', 'Admit One (2020)', 'Anne+ (2018-)', 'Art Majors (2021-)', 'Assigned Female at Birth, A Web Series about Some Bodies (2020-)', 'As We Are (2016-)', 'Avocado Toast the series (2020-)', 'A League of Their Own (2022)', 'A Luv Tale (2018-)', 'Back to top', 'Barbelle (2017-)', 'BIFL (2019-)', 'Butch Pal for the Straight Gal (2019-)', 'Back to top', 'Control [Kontrola] (2018-2020)', 'Back to top', 'Dating in Place (2020-)', 'Dating in the Zombie Apocalypse (2021-)', 'Dyke Central (2015-)', 'Back to top', 'Easy Abby (2012-)', 'El Contacto Cero [The Zero Contact] (2017-)', 'Every Day (2021-)', 'Back to top', 'Feel Good (2020-2021)', 'First Kill (2022)', 'Four More Shots Please (2019-)', 'Functional (2019-)', 'Back to top', 'Girls Story Queer (2019)', 'Back to top', 'Hard Times to Fall in Love – Simone and Lisa (2021)', 'High School (2022-)', 'Home Economics (2021)', 'Back to top', 'Killing Eve (2018 – 2022)', 'Kittens in a Cage (2015)', 'K&A: Lost & Found (2018)', 'Back to top', 'LA Influencer Handbook (2020)', 'LA Web Series (2016-)', 'Love is Gay (2022 -)', 'Back to top', 'Month in Review: Highlights', 'Motherland: Fort Salem Season Three', 'Motherland: Fort Salem (2020-2022)', 'Motherland: Fort Salem (2020-2022) Season One', 'Motherland: Fort Salem (2020-2022) Season Two', 'Back to top', 'Out In Love (2020-)', 'Back to top', 'Paper Girls (2022)', 'Passage (2019-)', 'Platonic (2020-)', 'Back to top', 'Querencia (2021-)', 'Back to top', 'RED (2014-)', 'Back to top', 'Sex Education (2019-)', 'Spoon the Prune (2019-)', 'Starting From…Now (2014-2016)', 'Starting From…Now (2014-2016) Season One', 'Stupid Wife (2022)', 'Back to top', 'These Thems (2019)', 'The Formal (2021) TikTok Series', 'The Fortnight (2020-)', 'The Haunting of Bly Manor (2020)', 'The L Word (2004-2009)', 'Back to top', 'Vida (2018-2020)', 'Back to top', 'What The Frick (2018-)', 'Wynonna Earp (2016-2021)', 'Back to top', 'You, Me, and Goodbye (2021-)', 'Back to top', '30 (2018-)', '30 30 (2017-)', 'Back to top', 'Clara Review (2021)', '', 'Combined Short Review: Upwards Tide & The Siren Song', '', 'Combined Short Review: gaze, Fish, A Different Place & Gaia', '', 'Wolf and Dog [Lobo e Cão] 2022 Film Review', '', 'The Gays’ Gaze: a celebration of queer cinema', '', '', '', 'The First Death of Joana [A Primeira Morte de Joana] (2021)', '', 'Mono No Aware (2022)', '', 'A Luv Tale (2018-)', '', 'Almost (2020)', '', 'Tár (2022)', '', '', '', 'Elegant Themes', 'WordPress', 'Terms and Conditions', 'General Competition Terms & Conditions', 'Privacy Policy', 'Cookie Notice', '', '', '']\n"
     ]
    }
   ],
   "source": [
    "second_select = soup.select(\"a\")\n",
    "movies=[\n",
    "\n",
    "]\n",
    "for second in second_select:\n",
    "    movies.append(second.text.strip())\n",
    "\n",
    "print(movies)\n"
   ]
  },
  {
   "cell_type": "code",
   "execution_count": 94,
   "metadata": {},
   "outputs": [
    {
     "name": "stdout",
     "output_type": "stream",
     "text": [
      "['Admit One (2020)', 'Anne+ (2018-)', 'Art Majors (2021-)', 'Assigned Female at Birth, A Web Series about Some Bodies (2020-)', 'As We Are (2016-)', 'Avocado Toast the series (2020-)', 'A League of Their Own (2022)', 'A Luv Tale (2018-)', 'Back to top', 'Barbelle (2017-)', 'BIFL (2019-)', 'Butch Pal for the Straight Gal (2019-)', 'Back to top', 'Control [Kontrola] (2018-2020)', 'Back to top', 'Dating in Place (2020-)', 'Dating in the Zombie Apocalypse (2021-)', 'Dyke Central (2015-)', 'Back to top', 'Easy Abby (2012-)', 'El Contacto Cero [The Zero Contact] (2017-)', 'Every Day (2021-)', 'Back to top', 'Feel Good (2020-2021)', 'First Kill (2022)', 'Four More Shots Please (2019-)', 'Functional (2019-)', 'Back to top', 'Girls Story Queer (2019)', 'Back to top', 'Hard Times to Fall in Love – Simone and Lisa (2021)', 'High School (2022-)', 'Home Economics (2021)', 'Back to top', 'Killing Eve (2018 – 2022)', 'Kittens in a Cage (2015)', 'K&A: Lost & Found (2018)', 'Back to top', 'LA Influencer Handbook (2020)', 'LA Web Series (2016-)', 'Love is Gay (2022 -)', 'Back to top', 'Month in Review: Highlights', 'Motherland: Fort Salem Season Three', 'Motherland: Fort Salem (2020-2022)', 'Motherland: Fort Salem (2020-2022) Season One', 'Motherland: Fort Salem (2020-2022) Season Two', 'Back to top', 'Out In Love (2020-)', 'Back to top', 'Paper Girls (2022)', 'Passage (2019-)', 'Platonic (2020-)', 'Back to top', 'Querencia (2021-)', 'Back to top', 'RED (2014-)', 'Back to top', 'Sex Education (2019-)', 'Spoon the Prune (2019-)', 'Starting From…Now (2014-2016)', 'Starting From…Now (2014-2016) Season One', 'Stupid Wife (2022)', 'Back to top', 'These Thems (2019)', 'The Formal (2021) TikTok Series', 'The Fortnight (2020-)', 'The Haunting of Bly Manor (2020)', 'The L Word (2004-2009)', 'Back to top', 'Vida (2018-2020)', 'Back to top', 'What The Frick (2018-)', 'Wynonna Earp (2016-2021)', 'Back to top', 'You, Me, and Goodbye (2021-)', 'Back to top', '30 (2018-)', '30 30 (2017-)', 'Back to top', 'Clara Review (2021)', '', 'Combined Short Review: Upwards Tide & The Siren Song', '', 'Combined Short Review: gaze, Fish, A Different Place & Gaia', '', 'Wolf and Dog [Lobo e Cão] 2022 Film Review', '', 'The Gays’ Gaze: a celebration of queer cinema', '', '', '', 'The First Death of Joana [A Primeira Morte de Joana] (2021)', '', 'Mono No Aware (2022)', '', 'A Luv Tale (2018-)', '', 'Almost (2020)', '', 'Tár (2022)', '', '', '', 'Elegant Themes', 'WordPress', 'Terms and Conditions', 'General Competition Terms & Conditions', 'Privacy Policy', 'Cookie Notice', '', '', '']\n"
     ]
    }
   ],
   "source": [
    "example = movies.index('Admit One (2020)')\n",
    "movies = movies[example:]\n",
    "print(movies)"
   ]
  },
  {
   "cell_type": "code",
   "execution_count": 95,
   "metadata": {},
   "outputs": [
    {
     "name": "stdout",
     "output_type": "stream",
     "text": [
      "['Admit One (2020)', 'Anne+ (2018-)', 'Art Majors (2021-)', 'Assigned Female at Birth, A Web Series about Some Bodies (2020-)', 'As We Are (2016-)', 'Avocado Toast the series (2020-)', 'A League of Their Own (2022)', 'A Luv Tale (2018-)', 'Back to top', 'Barbelle (2017-)', 'BIFL (2019-)', 'Butch Pal for the Straight Gal (2019-)', 'Back to top', 'Control [Kontrola] (2018-2020)', 'Back to top', 'Dating in Place (2020-)', 'Dating in the Zombie Apocalypse (2021-)', 'Dyke Central (2015-)', 'Back to top', 'Easy Abby (2012-)', 'El Contacto Cero [The Zero Contact] (2017-)', 'Every Day (2021-)', 'Back to top', 'Feel Good (2020-2021)', 'First Kill (2022)', 'Four More Shots Please (2019-)', 'Functional (2019-)', 'Back to top', 'Girls Story Queer (2019)', 'Back to top', 'Hard Times to Fall in Love – Simone and Lisa (2021)', 'High School (2022-)', 'Home Economics (2021)', 'Back to top', 'Killing Eve (2018 – 2022)', 'Kittens in a Cage (2015)', 'K&A: Lost & Found (2018)', 'Back to top', 'LA Influencer Handbook (2020)', 'LA Web Series (2016-)', 'Love is Gay (2022 -)', 'Back to top', 'Month in Review: Highlights', 'Motherland: Fort Salem Season Three', 'Motherland: Fort Salem (2020-2022)', 'Motherland: Fort Salem (2020-2022) Season One', 'Motherland: Fort Salem (2020-2022) Season Two', 'Back to top', 'Out In Love (2020-)', 'Back to top', 'Paper Girls (2022)', 'Passage (2019-)', 'Platonic (2020-)', 'Back to top', 'Querencia (2021-)', 'Back to top', 'RED (2014-)', 'Back to top', 'Sex Education (2019-)', 'Spoon the Prune (2019-)', 'Starting From…Now (2014-2016)', 'Starting From…Now (2014-2016) Season One', 'Stupid Wife (2022)', 'Back to top', 'These Thems (2019)', 'The Formal (2021) TikTok Series', 'The Fortnight (2020-)', 'The Haunting of Bly Manor (2020)', 'The L Word (2004-2009)', 'Back to top', 'Vida (2018-2020)', 'Back to top', 'What The Frick (2018-)', 'Wynonna Earp (2016-2021)', 'Back to top', 'You, Me, and Goodbye (2021-)', 'Back to top', '30 (2018-)', '30 30 (2017-)']\n"
     ]
    }
   ],
   "source": [
    "example = movies.index('30 30 (2017-)')\n",
    "movies = movies[0:example+1]\n",
    "print(movies)"
   ]
  },
  {
   "cell_type": "code",
   "execution_count": 99,
   "metadata": {},
   "outputs": [
    {
     "name": "stdout",
     "output_type": "stream",
     "text": [
      "                                                names\n",
      "0                                    Admit One (2020)\n",
      "1                                       Anne+ (2018-)\n",
      "2                                  Art Majors (2021-)\n",
      "3   Assigned Female at Birth, A Web Series about S...\n",
      "4                                   As We Are (2016-)\n",
      "..                                                ...\n",
      "74                                        Back to top\n",
      "75                       You, Me, and Goodbye (2021-)\n",
      "76                                        Back to top\n",
      "77                                         30 (2018-)\n",
      "78                                      30 30 (2017-)\n",
      "\n",
      "[79 rows x 1 columns]\n"
     ]
    }
   ],
   "source": [
    "import pandas as pd\n",
    "df = pd.DataFrame(movies, columns=['names'])\n",
    "print(df)"
   ]
  },
  {
   "cell_type": "code",
   "execution_count": 100,
   "metadata": {},
   "outputs": [],
   "source": [
    "df.to_excel(r\"sapphicmovies.xlsx\", index=False)"
   ]
  },
  {
   "cell_type": "code",
   "execution_count": null,
   "metadata": {},
   "outputs": [],
   "source": [
    "    "
   ]
  }
 ],
 "metadata": {
  "kernelspec": {
   "display_name": "base",
   "language": "python",
   "name": "python3"
  },
  "language_info": {
   "codemirror_mode": {
    "name": "ipython",
    "version": 3
   },
   "file_extension": ".py",
   "mimetype": "text/x-python",
   "name": "python",
   "nbconvert_exporter": "python",
   "pygments_lexer": "ipython3",
   "version": "3.11.7"
  }
 },
 "nbformat": 4,
 "nbformat_minor": 2
}
